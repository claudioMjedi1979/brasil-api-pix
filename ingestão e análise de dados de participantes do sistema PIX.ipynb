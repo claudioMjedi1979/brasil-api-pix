{
 "cells": [
  {
   "cell_type": "code",
   "execution_count": 0,
   "metadata": {
    "application/vnd.databricks.v1+cell": {
     "cellMetadata": {
      "byteLimit": 2048000,
      "rowLimit": 10000
     },
     "inputWidgets": {},
     "nuid": "892d972f-4393-48fa-befc-83e185af1b4d",
     "showTitle": false,
     "title": ""
    }
   },
   "outputs": [],
   "source": [
    "import requests\n",
    "from pyspark.sql import SparkSession\n",
    "import random\n",
    "import pandas as pd\n",
    "import matplotlib.pyplot as plt\n",
    "import seaborn as sns\n",
    "\n"
   ]
  },
  {
   "cell_type": "code",
   "execution_count": 0,
   "metadata": {
    "application/vnd.databricks.v1+cell": {
     "cellMetadata": {
      "byteLimit": 2048000,
      "rowLimit": 10000
     },
     "inputWidgets": {},
     "nuid": "7bf94dc4-0c23-41f7-b3a9-49de59275f75",
     "showTitle": false,
     "title": ""
    }
   },
   "outputs": [
    {
     "output_type": "stream",
     "name": "stdout",
     "output_type": "stream",
     "text": [
      "Python interpreter will be restarted.\nRequirement already satisfied: matplotlib in /databricks/python3/lib/python3.9/site-packages (3.5.1)\nRequirement already satisfied: seaborn in /databricks/python3/lib/python3.9/site-packages (0.11.2)\nRequirement already satisfied: pyparsing>=2.2.1 in /databricks/python3/lib/python3.9/site-packages (from matplotlib) (3.0.4)\nRequirement already satisfied: packaging>=20.0 in /databricks/python3/lib/python3.9/site-packages (from matplotlib) (21.3)\nRequirement already satisfied: numpy>=1.17 in /databricks/python3/lib/python3.9/site-packages (from matplotlib) (1.21.5)\nRequirement already satisfied: cycler>=0.10 in /databricks/python3/lib/python3.9/site-packages (from matplotlib) (0.11.0)\nRequirement already satisfied: kiwisolver>=1.0.1 in /databricks/python3/lib/python3.9/site-packages (from matplotlib) (1.3.2)\nRequirement already satisfied: pillow>=6.2.0 in /databricks/python3/lib/python3.9/site-packages (from matplotlib) (9.0.1)\nRequirement already satisfied: python-dateutil>=2.7 in /databricks/python3/lib/python3.9/site-packages (from matplotlib) (2.8.2)\nRequirement already satisfied: fonttools>=4.22.0 in /databricks/python3/lib/python3.9/site-packages (from matplotlib) (4.25.0)\nRequirement already satisfied: pandas>=0.23 in /databricks/python3/lib/python3.9/site-packages (from seaborn) (1.4.2)\nRequirement already satisfied: scipy>=1.0 in /databricks/python3/lib/python3.9/site-packages (from seaborn) (1.7.3)\nRequirement already satisfied: pytz>=2020.1 in /databricks/python3/lib/python3.9/site-packages (from pandas>=0.23->seaborn) (2021.3)\nRequirement already satisfied: six>=1.5 in /databricks/python3/lib/python3.9/site-packages (from python-dateutil>=2.7->matplotlib) (1.16.0)\nPython interpreter will be restarted.\n"
     ]
    }
   ],
   "source": [
    "%pip install matplotlib seaborn"
   ]
  },
  {
   "cell_type": "code",
   "execution_count": 0,
   "metadata": {
    "application/vnd.databricks.v1+cell": {
     "cellMetadata": {
      "byteLimit": 2048000,
      "rowLimit": 10000
     },
     "inputWidgets": {},
     "nuid": "568e79d2-6b9b-4694-acb4-7a50b9d32c86",
     "showTitle": false,
     "title": ""
    }
   },
   "outputs": [],
   "source": [
    "spark = SparkSession.builder.appName(\"IngestaoAPI\").getOrCreate()"
   ]
  },
  {
   "cell_type": "code",
   "execution_count": 0,
   "metadata": {
    "application/vnd.databricks.v1+cell": {
     "cellMetadata": {
      "byteLimit": 2048000,
      "rowLimit": 10000
     },
     "inputWidgets": {},
     "nuid": "574610fc-8b60-4d4a-81d5-bb19bbd84305",
     "showTitle": false,
     "title": ""
    }
   },
   "outputs": [],
   "source": [
    "# Função para fazer a chamada à API e obter todos os dados\n",
    "def obter_dados_participantes():\n",
    "    url = \"https://brasilapi.com.br/api/pix/v1/participants\"\n",
    "    resposta = requests.get(url)\n",
    "    if resposta.status_code == 200:  # Verifica se a resposta é bem-sucedida\n",
    "        return resposta.json()  # Retorna todos os dados como um dicionário\n",
    "    else:\n",
    "        print(f\"Erro ao buscar dados: {resposta.status_code}\")\n",
    "        return None  # Retorna None em caso de erro\n"
   ]
  },
  {
   "cell_type": "code",
   "execution_count": 0,
   "metadata": {
    "application/vnd.databricks.v1+cell": {
     "cellMetadata": {
      "byteLimit": 2048000,
      "rowLimit": 10000
     },
     "inputWidgets": {},
     "nuid": "964df69b-c8ba-4e4f-aae6-ed798810d23f",
     "showTitle": false,
     "title": ""
    }
   },
   "outputs": [],
   "source": [
    "# Coletar dados dos participantes\n",
    "dados_participantes = obter_dados_participantes()\n"
   ]
  },
  {
   "cell_type": "code",
   "execution_count": 0,
   "metadata": {
    "application/vnd.databricks.v1+cell": {
     "cellMetadata": {
      "byteLimit": 2048000,
      "rowLimit": 10000
     },
     "inputWidgets": {},
     "nuid": "8fb8b60b-aea3-45fa-b20e-6675b9a453cf",
     "showTitle": false,
     "title": ""
    }
   },
   "outputs": [
    {
     "output_type": "stream",
     "name": "stdout",
     "output_type": "stream",
     "text": [
      "+------------------------+--------+-----------------------+--------------------------------------------------------------------------------------------------------------------------------------+-----------------------------------------------+-----------------+\n|inicio_operacao         |ispb    |modalidade_participacao|nome                                                                                                                                  |nome_reduzido                                  |tipo_participacao|\n+------------------------+--------+-----------------------+--------------------------------------------------------------------------------------------------------------------------------------+-----------------------------------------------+-----------------+\n|2020-11-03T09:30:00.000Z|00000000|PDCT                   |BANCO DO BRASIL S.A.                                                                                                                  |BCO DO BRASIL S.A.                             |DRCT             |\n|2020-11-03T09:30:00.000Z|00000208|PDCT                   |BRB - BANCO DE BRASILIA S.A.                                                                                                          |BRB - BCO DE BRASILIA S.A.                     |DRCT             |\n|2020-11-03T09:30:00.000Z|00068987|PDCT                   |COOPERATIVA DE CRÉDITO ARACREDI LTDA. - SICOOB ARACREDI                                                                               |CC ARACREDI LTDA.                              |IDRT             |\n|2020-11-03T09:30:00.000Z|00075847|PDCT                   |COOPERATIVA DE CRÉDITO UNICRED CENTRO-SUL LTDA - UNICRED CENTRO-SUL                                                                   |CC UNICRED CENTRO-SUL LTDA - UNICRED CENTRO-SUL|IDRT             |\n|2020-11-03T09:30:00.000Z|00106180|PDCT                   |CENTRAL DAS COOPERATIVAS DE CRÉDITO DOS ESTADOS DE MATO GROSSO, MATO GROSSO DO SUL E DO MUNICÍPIO DE CACOAL/RO - SICOOB CENTRAL RONDON|CCC DOS EST DE MT, MS E MUN DE CACOAL/RO       |IDRT             |\n|2022-02-11T13:00:00.000Z|00204963|PDCT                   |COOPERATIVA DE CREDITO RURAL SEARA - CREDISEARA                                                                                       |CCR SEARA                                      |DRCT             |\n|2020-11-03T09:30:00.000Z|00259231|PDCT                   |SICOOB UNIMAIS METROPOLITANA - COOPERATIVA DE CRÉDITO DE LIVRE ADMISSÃO                                                               |CCLA SICOOB UNIMAIS METROPOLITANA              |IDRT             |\n|2020-11-03T09:30:00.000Z|00309024|PDCT                   |CENTRAL DAS COOPERATIVAS DE ECONOMIA E CREDITO DO ESTADO DE MINAS GERAIS LTDA. - SICOOB CENTRAL CECREMGE                              |CCC ESTADO MG - CECREMGE                       |IDRT             |\n|2020-11-03T09:30:00.000Z|00315557|PDCT                   |CONFEDERAÇÃO NACIONAL DAS COOPERATIVAS CENTRAIS UNICRED LTDA. - UNICRED DO BRASIL.                                                    |CONF NAC COOP CENTRAIS UNICRED                 |DRCT             |\n|2022-11-08T13:00:00.000Z|00329598|PDCT                   |SEFER INVESTIMENTOS DISTRIBUIDORA DE TÍTULOS E VALORES MOBILIÁRIOS LTDA                                                               |SEFER INVESTIMENTOS DTVM LTDA                  |DRCT             |\n|2020-11-03T09:30:00.000Z|00360305|PDCT                   |CAIXA ECONOMICA FEDERAL                                                                                                               |CAIXA ECONOMICA FEDERAL                        |DRCT             |\n|2023-06-05T17:06:24.425Z|00377239|PDCT                   |AQBANK INSTITUICAO DE PAGAMENTO LTDA                                                                                                  |AQBANK                                         |IDRT             |\n|2020-11-11T09:30:00.000Z|00394460|GOVE                   |Secretaria do Tesouro Nacional - STN                                                                                                  |STN                                            |DRCT             |\n|2020-11-03T09:30:00.000Z|00416968|PDCT                   |BANCO INTER S.A.                                                                                                                      |BANCO INTER                                    |DRCT             |\n|2020-11-03T09:30:00.000Z|00429890|PDCT                   |COOPERATIVA DE CREDITO CREDIAGRO LTDA. - SICOOB CREDIAGRO                                                                             |CC CREDIAGRO                                   |IDRT             |\n|2020-11-03T09:30:00.000Z|00512839|PDCT                   |COOPERATIVA DE CRÉDITO DOS SERVIDORES DO MUNICIPIO DE SANTO ANDRÉ - SP - CECRESA                                                      |CC SERV. MUN SANTO ANDRÉ SP - CECRESA          |IDRT             |\n|2020-11-03T09:30:00.000Z|00517645|PDCT                   |BANCO RIBEIRAO PRETO S.A.                                                                                                             |BCO RIBEIRAO PRETO S.A.                        |DRCT             |\n|2021-02-25T12:00:00.000Z|00556603|PDCT                   |BANCO BARI DE INVESTIMENTOS E FINANCIAMENTOS S.A.                                                                                     |BANCO BARI S.A.                                |DRCT             |\n|2020-11-03T09:30:00.000Z|00604122|PDCT                   |TRIVALE INSTITUIÇÃO DE PAGAMENTO LTDA                                                                                                 |TRIVALE                                        |IDRT             |\n|2020-11-03T09:30:00.000Z|00655522|PDCT                   |ASSOCIACAO DE POUPANCA E EMPRESTIMO - POUPEX                                                                                          |APE POUPEX                                     |IDRT             |\n+------------------------+--------+-----------------------+--------------------------------------------------------------------------------------------------------------------------------------+-----------------------------------------------+-----------------+\nonly showing top 20 rows\n\nroot\n |-- inicio_operacao: string (nullable = true)\n |-- ispb: string (nullable = true)\n |-- modalidade_participacao: string (nullable = true)\n |-- nome: string (nullable = true)\n |-- nome_reduzido: string (nullable = true)\n |-- tipo_participacao: string (nullable = true)\n\n"
     ]
    }
   ],
   "source": [
    "# Verificar se os dados foram coletados com sucesso\n",
    "if dados_participantes:\n",
    "    # Criar DataFrame do Spark com os dados coletados\n",
    "    df = spark.createDataFrame(dados_participantes)\n",
    "\n",
    "    # Exibir DataFrame\n",
    "    df.show(truncate=False)\n",
    "\n",
    "    # Verificar o esquema do DataFrame para entender a estrutura dos dados\n",
    "    df.printSchema()\n",
    "\n",
    "    # Salvar o DataFrame transformado em um formato desejado, como Parquet\n",
    "    df.write.mode(\"overwrite\").parquet(\"/mnt/dados/pix_participantes.parquet\")"
   ]
  },
  {
   "cell_type": "code",
   "execution_count": 0,
   "metadata": {
    "application/vnd.databricks.v1+cell": {
     "cellMetadata": {
      "byteLimit": 2048000,
      "rowLimit": 10000
     },
     "inputWidgets": {},
     "nuid": "6feda42c-52cf-4ee3-b195-34b02d749699",
     "showTitle": false,
     "title": ""
    }
   },
   "outputs": [
    {
     "output_type": "stream",
     "name": "stdout",
     "output_type": "stream",
     "text": [
      "                 inicio_operacao      ispb modalidade_participacao  \\\ncount                        842       842                     842   \nunique                       209       842                       3   \ntop     2020-11-03T09:30:00.000Z  00000000                    PDCT   \nfreq                         632         1                     838   \n\n                        nome       nome_reduzido tipo_participacao  \ncount                    842                 842               842  \nunique                   842                 842                 2  \ntop     BANCO DO BRASIL S.A.  BCO DO BRASIL S.A.              IDRT  \nfreq                       1                   1               677  \n"
     ]
    }
   ],
   "source": [
    "# Criar relatórios\n",
    "# Converter DataFrame do Spark para pandas\n",
    "df_pandas = df.toPandas()\n",
    "\n",
    "# Criar um relatório simples\n",
    "relatorio = df_pandas.describe(include='all')  # Relatório que inclui todas as colunas\n",
    "\n",
    "# Exibir o relatório\n",
    "print(relatorio)\n"
   ]
  },
  {
   "cell_type": "code",
   "execution_count": 0,
   "metadata": {
    "application/vnd.databricks.v1+cell": {
     "cellMetadata": {
      "byteLimit": 2048000,
      "rowLimit": 10000
     },
     "inputWidgets": {},
     "nuid": "cb332834-5fc6-4c03-aaf2-a060efb065e8",
     "showTitle": false,
     "title": ""
    }
   },
   "outputs": [
    {
     "output_type": "display_data",
     "data": {
      "image/png": "[encoded data removed]"
     },
     "metadata": {
      "application/vnd.databricks.v1+output": {
       "addedWidgets": {},
       "arguments": {},
       "data": "data:image/png;base64,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\n",
       "datasetInfos": [],
       "metadata": {},
       "removedWidgets": [],
       "type": "image"
      }
     },
     "output_type": "display_data"
    }
   ],
   "source": [
    "# Supondo que df_pandas seja seu DataFrame convertido do Spark\n",
    "# e que já contenha os dados que você descreveu anteriormente\n",
    "\n",
    "# Criar um DataFrame com a contagem de tipos de participação\n",
    "contagem_tipo_participacao = df_pandas['tipo_participacao'].value_counts()\n",
    "\n",
    "# Criar gráfico de barras\n",
    "plt.figure(figsize=(10, 6))\n",
    "sns.barplot(x=contagem_tipo_participacao.index, y=contagem_tipo_participacao.values, palette='viridis')\n",
    "\n",
    "# Configurar os títulos e rótulos\n",
    "plt.title('Distribuição de Tipos de Participação', fontsize=16)\n",
    "plt.xlabel('Tipo de Participação', fontsize=14)\n",
    "plt.ylabel('Contagem', fontsize=14)\n",
    "plt.xticks(rotation=45)\n",
    "plt.grid(axis='y')\n",
    "\n",
    "# Exibir o gráfico\n",
    "plt.tight_layout()\n",
    "plt.show()"
   ]
  }
 ],
 "metadata": {
  "application/vnd.databricks.v1+notebook": {
   "dashboards": [],
   "environmentMetadata": null,
   "language": "python",
   "notebookMetadata": {
    "pythonIndentUnit": 2
   },
   "notebookName": "ingestão e análise de dados de participantes do sistema PIX",
   "widgets": {}
  }
 },
 "nbformat": 4,
 "nbformat_minor": 0
}
